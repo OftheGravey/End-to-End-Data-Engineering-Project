{
 "cells": [
  {
   "cell_type": "code",
   "execution_count": 24,
   "id": "1749802d",
   "metadata": {},
   "outputs": [],
   "source": [
    "import duckdb"
   ]
  },
  {
   "cell_type": "code",
   "execution_count": 30,
   "id": "28a91cbc",
   "metadata": {},
   "outputs": [
    {
     "name": "stdout",
     "output_type": "stream",
     "text": [
      "┌──────────┬─────────────┬────────────────────────────┬─────────┬─────────────────┬─────────┬─────────┬───────────────┬───────────────┬───────────────────┬────────────────┬──────────┐\n",
      "│ order_id │ customer_id │         order_date         │ status  │ shipping_method │  notes  │   op    │ emitted_ts_ms │     ts_ms     │ connector_version │ transaction_id │   lsn    │\n",
      "│  int32   │    int32    │         timestamp          │ varchar │     varchar     │ varchar │ varchar │     int64     │     int64     │      varchar      │    varchar     │  int64   │\n",
      "├──────────┼─────────────┼────────────────────────────┼─────────┼─────────────────┼─────────┼─────────┼───────────────┼───────────────┼───────────────────┼────────────────┼──────────┤\n",
      "│        1 │           1 │ 2025-05-10 09:24:21.717759 │ pending │ Standard        │ NULL    │ c       │ 1746833062131 │ 1746833061725 │ 2.4.0.Final       │ 747            │ 24461720 │\n",
      "│        2 │           2 │ 2025-05-10 09:24:21.717759 │ shipped │ Express         │ NULL    │ c       │ 1746833062131 │ 1746833061725 │ 2.4.0.Final       │ 747            │ 24461992 │\n",
      "│        1 │           1 │ 2025-05-10 09:24:21.717759 │ shipped │ Standard        │ NULL    │ u       │ 1746833062156 │ 1746833061740 │ 2.4.0.Final       │ 753            │ 24467496 │\n",
      "│        4 │           4 │ 2025-05-10 09:24:21.752759 │ pending │ express         │ NULL    │ c       │ 1746833062158 │ 1746833061753 │ 2.4.0.Final       │ 757            │ 24468824 │\n",
      "│        4 │           4 │ 2025-05-10 09:24:21.752759 │ pending │ express         │ NULL    │ d       │ 1746833248779 │ 1746833248282 │ 2.4.0.Final       │ 759            │ 24469456 │\n",
      "└──────────┴─────────────┴────────────────────────────┴─────────┴─────────────────┴─────────┴─────────┴───────────────┴───────────────┴───────────────────┴────────────────┴──────────┘\n",
      "\n"
     ]
    }
   ],
   "source": [
    "with duckdb.connect(\"consumer/data/staging.db\") as conn:\n",
    "\n",
    "    conn.sql(\"SELECT * FROM orders\").show()"
   ]
  },
  {
   "cell_type": "code",
   "execution_count": 5,
   "id": "53ef16fe",
   "metadata": {},
   "outputs": [],
   "source": [
    "conn.close()"
   ]
  },
  {
   "cell_type": "code",
   "execution_count": null,
   "id": "5a78f71c",
   "metadata": {},
   "outputs": [],
   "source": []
  }
 ],
 "metadata": {
  "kernelspec": {
   "display_name": "py312",
   "language": "python",
   "name": "python3"
  },
  "language_info": {
   "codemirror_mode": {
    "name": "ipython",
    "version": 3
   },
   "file_extension": ".py",
   "mimetype": "text/x-python",
   "name": "python",
   "nbconvert_exporter": "python",
   "pygments_lexer": "ipython3",
   "version": "3.12.3"
  }
 },
 "nbformat": 4,
 "nbformat_minor": 5
}
