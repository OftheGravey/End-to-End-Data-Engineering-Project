{
 "cells": [
  {
   "cell_type": "code",
   "execution_count": 1,
   "id": "1749802d",
   "metadata": {},
   "outputs": [],
   "source": [
    "import duckdb"
   ]
  },
  {
   "cell_type": "code",
   "execution_count": null,
   "id": "28a91cbc",
   "metadata": {},
   "outputs": [
    {
     "name": "stdout",
     "output_type": "stream",
     "text": [
      "┌─────────────┬──────────┬────────────┬────────────┬─────────────────┬─────────────────┬──────────────┬────────────────────────┬──────────────────────┬───────────────┬─────────┬───────────────┬───────────────┬───────────────────┬────────────────┐\n",
      "│ shipment_id │ order_id │ carrier_id │ service_id │ tracking_number │ shipping_status │ shipped_date │ expected_delivery_date │ actual_delivery_date │ shipping_cost │   op    │ emitted_ts_ms │     ts_ms     │ connector_version │ transaction_id │\n",
      "│    int32    │  int32   │   int32    │   int32    │     varchar     │     varchar     │     date     │          date          │         date         │ decimal(10,2) │ varchar │     int64     │     int64     │      varchar      │    varchar     │\n",
      "├─────────────┼──────────┼────────────┼────────────┼─────────────────┼─────────────────┼──────────────┼────────────────────────┼──────────────────────┼───────────────┼─────────┼───────────────┼───────────────┼───────────────────┼────────────────┤\n",
      "│           1 │      101 │          1 │          1 │ 1234FEDX        │ created         │ 2025-05-01   │ 2025-05-06             │ NULL                 │         12.99 │ c       │ 1746932292197 │ 1746932292000 │ 2.7.3.Final       │ NULL           │\n",
      "│           2 │      102 │          2 │          2 │ 5678UPS         │ in_transit      │ 2025-05-02   │ 2025-05-03             │ NULL                 │         24.99 │ c       │ 1746932292198 │ 1746932292000 │ 2.7.3.Final       │ NULL           │\n",
      "│           3 │      103 │          3 │          5 │ 9101DHL         │ delivered       │ 2025-05-03   │ 2025-05-10             │ NULL                 │         15.99 │ c       │ 1746932292198 │ 1746932292000 │ 2.7.3.Final       │ NULL           │\n",
      "│           3 │      103 │          3 │          5 │ 9101DHL         │ delivered       │ 2025-05-03   │ 2025-05-10             │ 2025-05-03           │         15.99 │ u       │ 1746932292214 │ 1746932292000 │ 2.7.3.Final       │ NULL           │\n",
      "│           1 │      101 │          1 │          1 │ 4321FEDX        │ created         │ 2025-05-01   │ 2025-05-06             │ NULL                 │         12.99 │ u       │ 1746932292216 │ 1746932292000 │ 2.7.3.Final       │ NULL           │\n",
      "│           2 │      102 │          2 │          2 │ 5678UPS         │ in_transit      │ 2025-05-02   │ 2025-05-03             │ NULL                 │         27.99 │ u       │ 1746932292220 │ 1746932292000 │ 2.7.3.Final       │ NULL           │\n",
      "│           1 │      101 │          1 │          1 │ 4321FEDX        │ delivered       │ 2025-05-01   │ 2025-05-06             │ 2025-05-11           │         12.99 │ u       │ 1746932292247 │ 1746932292000 │ 2.7.3.Final       │ NULL           │\n",
      "│           2 │      102 │          2 │          2 │ 5678UPS         │ delivered       │ 2025-05-02   │ 2025-05-03             │ 2025-05-11           │         27.99 │ u       │ 1746932292247 │ 1746932292000 │ 2.7.3.Final       │ NULL           │\n",
      "│           4 │        7 │          1 │          2 │ TRK7379100      │ created         │ 2025-05-11   │ NULL                   │ NULL                 │          NULL │ c       │ 1746936603876 │ 1746936603000 │ 2.7.3.Final       │ NULL           │\n",
      "│           5 │        8 │          3 │          5 │ TRK7679561      │ created         │ 2025-05-11   │ NULL                   │ NULL                 │          NULL │ c       │ 1746936606955 │ 1746936606000 │ 2.7.3.Final       │ NULL           │\n",
      "│           · │        · │          · │          · │     ·           │    ·            │     ·        │  ·                     │  ·                   │            ·  │ ·       │       ·       │       ·       │      ·            │  ·             │\n",
      "│           · │        · │          · │          · │     ·           │    ·            │     ·        │  ·                     │  ·                   │            ·  │ ·       │       ·       │       ·       │      ·            │  ·             │\n",
      "│           · │        · │          · │          · │     ·           │    ·            │     ·        │  ·                     │  ·                   │            ·  │ ·       │       ·       │       ·       │      ·            │  ·             │\n",
      "│          12 │       15 │          2 │          4 │ TRK1974130      │ created         │ 2025-05-11   │ NULL                   │ NULL                 │          NULL │ c       │ 1746936627533 │ 1746936627000 │ 2.7.3.Final       │ NULL           │\n",
      "│          13 │       16 │          2 │          4 │ TRK2930263      │ created         │ 2025-05-11   │ NULL                   │ NULL                 │          NULL │ c       │ 1746936629289 │ 1746936629000 │ 2.7.3.Final       │ NULL           │\n",
      "│          14 │       17 │          1 │          1 │ TRK8272682      │ created         │ 2025-05-11   │ NULL                   │ NULL                 │          NULL │ c       │ 1746936630658 │ 1746936630000 │ 2.7.3.Final       │ NULL           │\n",
      "│          15 │       18 │          1 │          1 │ TRK7598179      │ created         │ 2025-05-11   │ NULL                   │ NULL                 │          NULL │ c       │ 1746936640620 │ 1746936640000 │ 2.7.3.Final       │ NULL           │\n",
      "│          16 │       19 │          1 │          2 │ TRK3812374      │ created         │ 2025-05-11   │ NULL                   │ NULL                 │          NULL │ c       │ 1746936646976 │ 1746936646000 │ 2.7.3.Final       │ NULL           │\n",
      "│          17 │       20 │          2 │          4 │ TRK3456624      │ created         │ 2025-05-11   │ NULL                   │ NULL                 │          NULL │ c       │ 1746936647806 │ 1746936647000 │ 2.7.3.Final       │ NULL           │\n",
      "│          18 │       21 │          2 │          4 │ TRK9877453      │ created         │ 2025-05-11   │ NULL                   │ NULL                 │          NULL │ c       │ 1746936651209 │ 1746936651000 │ 2.7.3.Final       │ NULL           │\n",
      "│          19 │       22 │          1 │          2 │ TRK7629164      │ created         │ 2025-05-11   │ NULL                   │ NULL                 │          NULL │ c       │ 1746936653413 │ 1746936653000 │ 2.7.3.Final       │ NULL           │\n",
      "│          20 │       23 │          2 │          4 │ TRK5511550      │ created         │ 2025-05-11   │ NULL                   │ NULL                 │          NULL │ c       │ 1746936657104 │ 1746936657000 │ 2.7.3.Final       │ NULL           │\n",
      "│          21 │       24 │          3 │          5 │ TRK5139525      │ created         │ 2025-05-11   │ NULL                   │ NULL                 │          NULL │ c       │ 1746936661304 │ 1746936661000 │ 2.7.3.Final       │ NULL           │\n",
      "├─────────────┴──────────┴────────────┴────────────┴─────────────────┴─────────────────┴──────────────┴────────────────────────┴──────────────────────┴───────────────┴─────────┴───────────────┴───────────────┴───────────────────┴────────────────┤\n",
      "│ 26 rows (20 shown)                                                                                                                                                                                                                      15 columns │\n",
      "└────────────────────────────────────────────────────────────────────────────────────────────────────────────────────────────────────────────────────────────────────────────────────────────────────────────────────────────────────────────────────┘\n",
      "\n"
     ]
    }
   ],
   "source": [
    "with duckdb.connect(\"consumer/data/staging.db\", read_only=True) as conn:\n",
    "\n",
    "    conn.sql(\"SELECT * FROM shipments\").show()"
   ]
  },
  {
   "cell_type": "code",
   "execution_count": 5,
   "id": "53ef16fe",
   "metadata": {},
   "outputs": [],
   "source": [
    "conn.close()"
   ]
  },
  {
   "cell_type": "code",
   "execution_count": null,
   "id": "5a78f71c",
   "metadata": {},
   "outputs": [],
   "source": []
  },
  {
   "cell_type": "code",
   "execution_count": null,
   "id": "6c97fb09",
   "metadata": {},
   "outputs": [],
   "source": []
  }
 ],
 "metadata": {
  "kernelspec": {
   "display_name": "py312",
   "language": "python",
   "name": "python3"
  },
  "language_info": {
   "codemirror_mode": {
    "name": "ipython",
    "version": 3
   },
   "file_extension": ".py",
   "mimetype": "text/x-python",
   "name": "python",
   "nbconvert_exporter": "python",
   "pygments_lexer": "ipython3",
   "version": "3.12.3"
  }
 },
 "nbformat": 4,
 "nbformat_minor": 5
}
